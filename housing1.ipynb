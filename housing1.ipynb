{
 "cells": [
  {
   "cell_type": "markdown",
   "metadata": {},
   "source": [
    "# CADi Data Wrangling\n",
    "## Example: Housing data cleaning\n",
    "Objectives:\n",
    "Doing pandas dataframe manipulation to clean and create a categorical\n",
    "variable encoding."
   ]
  },
  {
   "cell_type": "markdown",
   "metadata": {},
   "source": [
    "## Import required libraries"
   ]
  },
  {
   "cell_type": "code",
   "execution_count": 1,
   "metadata": {},
   "outputs": [],
   "source": [
    "import matplotlib as plt\n",
    "import pandas as pd\n",
    "from sklearn.impute import SimpleImputer\n",
    "from sklearn.preprocessing import OneHotEncoder\n",
    "%matplotlib inline"
   ]
  },
  {
   "cell_type": "markdown",
   "metadata": {},
   "source": [
    "## Setup data path and read data"
   ]
  },
  {
   "cell_type": "code",
   "execution_count": 2,
   "metadata": {},
   "outputs": [
    {
     "data": {
      "text/plain": [
       "'C:\\\\Users\\\\L00871590\\\\Desktop\\\\GitHub\\\\dataPy\\\\scripts'"
      ]
     },
     "execution_count": 2,
     "metadata": {},
     "output_type": "execute_result"
    }
   ],
   "source": [
    "# Para verificar la forma de la ruta para jalar el archivo:\n",
    "import os\n",
    "os.getcwd()"
   ]
  },
  {
   "cell_type": "code",
   "execution_count": 3,
   "metadata": {},
   "outputs": [],
   "source": [
    "DATA_PATH = \"C:\\\\Users\\\\L00871590\\\\Desktop\\\\GitHub\\\\dataPy\\\\data\\\\extracted\\\\housing\\\\\"\n",
    "DATA_FILE=\"housing.csv\"\n",
    "FULL_PATH=DATA_PATH+DATA_FILE\n",
    "data=pd.read_csv(FULL_PATH)"
   ]
  },
  {
   "cell_type": "markdown",
   "metadata": {},
   "source": [
    "## Get information about our dataframe"
   ]
  },
  {
   "cell_type": "code",
   "execution_count": 4,
   "metadata": {},
   "outputs": [
    {
     "data": {
      "text/plain": [
       "<bound method DataFrame.isna of        longitude  latitude  housing_median_age  total_rooms  total_bedrooms  \\\n",
       "0        -122.23     37.88                41.0        880.0           129.0   \n",
       "1        -122.22     37.86                21.0       7099.0          1106.0   \n",
       "2        -122.24     37.85                52.0       1467.0           190.0   \n",
       "3        -122.25     37.85                52.0       1274.0           235.0   \n",
       "4        -122.25     37.85                52.0       1627.0           280.0   \n",
       "5        -122.25     37.85                52.0        919.0           213.0   \n",
       "6        -122.25     37.84                52.0       2535.0           489.0   \n",
       "7        -122.25     37.84                52.0       3104.0           687.0   \n",
       "8        -122.26     37.84                42.0       2555.0           665.0   \n",
       "9        -122.25     37.84                52.0       3549.0           707.0   \n",
       "10       -122.26     37.85                52.0       2202.0           434.0   \n",
       "11       -122.26     37.85                52.0       3503.0           752.0   \n",
       "12       -122.26     37.85                52.0       2491.0           474.0   \n",
       "13       -122.26     37.84                52.0        696.0           191.0   \n",
       "14       -122.26     37.85                52.0       2643.0           626.0   \n",
       "15       -122.26     37.85                50.0       1120.0           283.0   \n",
       "16       -122.27     37.85                52.0       1966.0           347.0   \n",
       "17       -122.27     37.85                52.0       1228.0           293.0   \n",
       "18       -122.26     37.84                50.0       2239.0           455.0   \n",
       "19       -122.27     37.84                52.0       1503.0           298.0   \n",
       "20       -122.27     37.85                40.0        751.0           184.0   \n",
       "21       -122.27     37.85                42.0       1639.0           367.0   \n",
       "22       -122.27     37.84                52.0       2436.0           541.0   \n",
       "23       -122.27     37.84                52.0       1688.0           337.0   \n",
       "24       -122.27     37.84                52.0       2224.0           437.0   \n",
       "25       -122.28     37.85                41.0        535.0           123.0   \n",
       "26       -122.28     37.85                49.0       1130.0           244.0   \n",
       "27       -122.28     37.85                52.0       1898.0           421.0   \n",
       "28       -122.28     37.84                50.0       2082.0           492.0   \n",
       "29       -122.28     37.84                52.0        729.0           160.0   \n",
       "...          ...       ...                 ...          ...             ...   \n",
       "20610    -121.56     39.10                28.0       2130.0           484.0   \n",
       "20611    -121.55     39.10                27.0       1783.0           441.0   \n",
       "20612    -121.56     39.08                26.0       1377.0           289.0   \n",
       "20613    -121.55     39.09                31.0       1728.0           365.0   \n",
       "20614    -121.54     39.08                26.0       2276.0           460.0   \n",
       "20615    -121.54     39.08                23.0       1076.0           216.0   \n",
       "20616    -121.53     39.08                15.0       1810.0           441.0   \n",
       "20617    -121.53     39.06                20.0        561.0           109.0   \n",
       "20618    -121.55     39.06                25.0       1332.0           247.0   \n",
       "20619    -121.56     39.01                22.0       1891.0           340.0   \n",
       "20620    -121.48     39.05                40.0        198.0            41.0   \n",
       "20621    -121.47     39.01                37.0       1244.0           247.0   \n",
       "20622    -121.44     39.00                20.0        755.0           147.0   \n",
       "20623    -121.37     39.03                32.0       1158.0           244.0   \n",
       "20624    -121.41     39.04                16.0       1698.0           300.0   \n",
       "20625    -121.52     39.12                37.0        102.0            17.0   \n",
       "20626    -121.43     39.18                36.0       1124.0           184.0   \n",
       "20627    -121.32     39.13                 5.0        358.0            65.0   \n",
       "20628    -121.48     39.10                19.0       2043.0           421.0   \n",
       "20629    -121.39     39.12                28.0      10035.0          1856.0   \n",
       "20630    -121.32     39.29                11.0       2640.0           505.0   \n",
       "20631    -121.40     39.33                15.0       2655.0           493.0   \n",
       "20632    -121.45     39.26                15.0       2319.0           416.0   \n",
       "20633    -121.53     39.19                27.0       2080.0           412.0   \n",
       "20634    -121.56     39.27                28.0       2332.0           395.0   \n",
       "20635    -121.09     39.48                25.0       1665.0           374.0   \n",
       "20636    -121.21     39.49                18.0        697.0           150.0   \n",
       "20637    -121.22     39.43                17.0       2254.0           485.0   \n",
       "20638    -121.32     39.43                18.0       1860.0           409.0   \n",
       "20639    -121.24     39.37                16.0       2785.0           616.0   \n",
       "\n",
       "       population  households  median_income  median_house_value  \\\n",
       "0           322.0       126.0         8.3252            452600.0   \n",
       "1          2401.0      1138.0         8.3014            358500.0   \n",
       "2           496.0       177.0         7.2574            352100.0   \n",
       "3           558.0       219.0         5.6431            341300.0   \n",
       "4           565.0       259.0         3.8462            342200.0   \n",
       "5           413.0       193.0         4.0368            269700.0   \n",
       "6          1094.0       514.0         3.6591            299200.0   \n",
       "7          1157.0       647.0         3.1200            241400.0   \n",
       "8          1206.0       595.0         2.0804            226700.0   \n",
       "9          1551.0       714.0         3.6912            261100.0   \n",
       "10          910.0       402.0         3.2031            281500.0   \n",
       "11         1504.0       734.0         3.2705            241800.0   \n",
       "12         1098.0       468.0         3.0750            213500.0   \n",
       "13          345.0       174.0         2.6736            191300.0   \n",
       "14         1212.0       620.0         1.9167            159200.0   \n",
       "15          697.0       264.0         2.1250            140000.0   \n",
       "16          793.0       331.0         2.7750            152500.0   \n",
       "17          648.0       303.0         2.1202            155500.0   \n",
       "18          990.0       419.0         1.9911            158700.0   \n",
       "19          690.0       275.0         2.6033            162900.0   \n",
       "20          409.0       166.0         1.3578            147500.0   \n",
       "21          929.0       366.0         1.7135            159800.0   \n",
       "22         1015.0       478.0         1.7250            113900.0   \n",
       "23          853.0       325.0         2.1806             99700.0   \n",
       "24         1006.0       422.0         2.6000            132600.0   \n",
       "25          317.0       119.0         2.4038            107500.0   \n",
       "26          607.0       239.0         2.4597             93800.0   \n",
       "27         1102.0       397.0         1.8080            105500.0   \n",
       "28         1131.0       473.0         1.6424            108900.0   \n",
       "29          395.0       155.0         1.6875            132000.0   \n",
       "...           ...         ...            ...                 ...   \n",
       "20610      1195.0       439.0         1.3631             45500.0   \n",
       "20611      1163.0       409.0         1.2857             47000.0   \n",
       "20612       761.0       267.0         1.4934             48300.0   \n",
       "20613      1167.0       384.0         1.4958             53400.0   \n",
       "20614      1455.0       474.0         2.4695             58000.0   \n",
       "20615       724.0       197.0         2.3598             57500.0   \n",
       "20616      1157.0       375.0         2.0469             55100.0   \n",
       "20617       308.0       114.0         3.3021             70800.0   \n",
       "20618       726.0       226.0         2.2500             63400.0   \n",
       "20619      1023.0       296.0         2.7303             99100.0   \n",
       "20620       151.0        48.0         4.5625            100000.0   \n",
       "20621       484.0       157.0         2.3661             77500.0   \n",
       "20622       457.0       157.0         2.4167             67000.0   \n",
       "20623       598.0       227.0         2.8235             65500.0   \n",
       "20624       731.0       291.0         3.0739             87200.0   \n",
       "20625        29.0        14.0         4.1250             72000.0   \n",
       "20626       504.0       171.0         2.1667             93800.0   \n",
       "20627       169.0        59.0         3.0000            162500.0   \n",
       "20628      1018.0       390.0         2.5952             92400.0   \n",
       "20629      6912.0      1818.0         2.0943            108300.0   \n",
       "20630      1257.0       445.0         3.5673            112000.0   \n",
       "20631      1200.0       432.0         3.5179            107200.0   \n",
       "20632      1047.0       385.0         3.1250            115600.0   \n",
       "20633      1082.0       382.0         2.5495             98300.0   \n",
       "20634      1041.0       344.0         3.7125            116800.0   \n",
       "20635       845.0       330.0         1.5603             78100.0   \n",
       "20636       356.0       114.0         2.5568             77100.0   \n",
       "20637      1007.0       433.0         1.7000             92300.0   \n",
       "20638       741.0       349.0         1.8672             84700.0   \n",
       "20639      1387.0       530.0         2.3886             89400.0   \n",
       "\n",
       "      ocean_proximity  \n",
       "0            NEAR BAY  \n",
       "1            NEAR BAY  \n",
       "2            NEAR BAY  \n",
       "3            NEAR BAY  \n",
       "4            NEAR BAY  \n",
       "5            NEAR BAY  \n",
       "6            NEAR BAY  \n",
       "7            NEAR BAY  \n",
       "8            NEAR BAY  \n",
       "9            NEAR BAY  \n",
       "10           NEAR BAY  \n",
       "11           NEAR BAY  \n",
       "12           NEAR BAY  \n",
       "13           NEAR BAY  \n",
       "14           NEAR BAY  \n",
       "15           NEAR BAY  \n",
       "16           NEAR BAY  \n",
       "17           NEAR BAY  \n",
       "18           NEAR BAY  \n",
       "19           NEAR BAY  \n",
       "20           NEAR BAY  \n",
       "21           NEAR BAY  \n",
       "22           NEAR BAY  \n",
       "23           NEAR BAY  \n",
       "24           NEAR BAY  \n",
       "25           NEAR BAY  \n",
       "26           NEAR BAY  \n",
       "27           NEAR BAY  \n",
       "28           NEAR BAY  \n",
       "29           NEAR BAY  \n",
       "...               ...  \n",
       "20610          INLAND  \n",
       "20611          INLAND  \n",
       "20612          INLAND  \n",
       "20613          INLAND  \n",
       "20614          INLAND  \n",
       "20615          INLAND  \n",
       "20616          INLAND  \n",
       "20617          INLAND  \n",
       "20618          INLAND  \n",
       "20619          INLAND  \n",
       "20620          INLAND  \n",
       "20621          INLAND  \n",
       "20622          INLAND  \n",
       "20623          INLAND  \n",
       "20624          INLAND  \n",
       "20625          INLAND  \n",
       "20626          INLAND  \n",
       "20627          INLAND  \n",
       "20628          INLAND  \n",
       "20629          INLAND  \n",
       "20630          INLAND  \n",
       "20631          INLAND  \n",
       "20632          INLAND  \n",
       "20633          INLAND  \n",
       "20634          INLAND  \n",
       "20635          INLAND  \n",
       "20636          INLAND  \n",
       "20637          INLAND  \n",
       "20638          INLAND  \n",
       "20639          INLAND  \n",
       "\n",
       "[20640 rows x 10 columns]>"
      ]
     },
     "execution_count": 4,
     "metadata": {},
     "output_type": "execute_result"
    }
   ],
   "source": [
    "# Verificamos NA's:\n",
    "data.isna"
   ]
  },
  {
   "cell_type": "code",
   "execution_count": 5,
   "metadata": {
    "scrolled": true
   },
   "outputs": [
    {
     "data": {
      "text/plain": [
       "longitude               0\n",
       "latitude                0\n",
       "housing_median_age      0\n",
       "total_rooms             0\n",
       "total_bedrooms        207\n",
       "population              0\n",
       "households              0\n",
       "median_income           0\n",
       "median_house_value      0\n",
       "ocean_proximity         0\n",
       "dtype: int64"
      ]
     },
     "execution_count": 5,
     "metadata": {},
     "output_type": "execute_result"
    }
   ],
   "source": [
    "# Pedimos la suma de NA's:\n",
    "data.isna().sum()"
   ]
  },
  {
   "cell_type": "code",
   "execution_count": 6,
   "metadata": {},
   "outputs": [
    {
     "data": {
      "text/plain": [
       "0        False\n",
       "1        False\n",
       "2        False\n",
       "3        False\n",
       "4        False\n",
       "5        False\n",
       "6        False\n",
       "7        False\n",
       "8        False\n",
       "9        False\n",
       "10       False\n",
       "11       False\n",
       "12       False\n",
       "13       False\n",
       "14       False\n",
       "15       False\n",
       "16       False\n",
       "17       False\n",
       "18       False\n",
       "19       False\n",
       "20       False\n",
       "21       False\n",
       "22       False\n",
       "23       False\n",
       "24       False\n",
       "25       False\n",
       "26       False\n",
       "27       False\n",
       "28       False\n",
       "29       False\n",
       "         ...  \n",
       "20610    False\n",
       "20611    False\n",
       "20612    False\n",
       "20613    False\n",
       "20614    False\n",
       "20615    False\n",
       "20616    False\n",
       "20617    False\n",
       "20618    False\n",
       "20619    False\n",
       "20620    False\n",
       "20621    False\n",
       "20622    False\n",
       "20623    False\n",
       "20624    False\n",
       "20625    False\n",
       "20626    False\n",
       "20627    False\n",
       "20628    False\n",
       "20629    False\n",
       "20630    False\n",
       "20631    False\n",
       "20632    False\n",
       "20633    False\n",
       "20634    False\n",
       "20635    False\n",
       "20636    False\n",
       "20637    False\n",
       "20638    False\n",
       "20639    False\n",
       "Name: total_bedrooms, Length: 20640, dtype: bool"
      ]
     },
     "execution_count": 6,
     "metadata": {},
     "output_type": "execute_result"
    }
   ],
   "source": [
    "# Entramos en la columna \"total_bedrooms\" para verificar NA's:\n",
    "data[\"total_bedrooms\"].isna()"
   ]
  },
  {
   "cell_type": "code",
   "execution_count": 7,
   "metadata": {},
   "outputs": [
    {
     "data": {
      "text/plain": [
       "207"
      ]
     },
     "execution_count": 7,
     "metadata": {},
     "output_type": "execute_result"
    }
   ],
   "source": [
    "# Volvemos a verificar el total de NA's en la columna \"total_bedrooms\"\n",
    "# Podemos observar que el objeto \"data\" va acompañado de las instrucciones 'isna' y 'sum':\n",
    "data[\"total_bedrooms\"].isna().sum()"
   ]
  },
  {
   "cell_type": "code",
   "execution_count": null,
   "metadata": {},
   "outputs": [],
   "source": [
    "# Esta instrucción elimina todas las filas en donde existan na's asociadas a la columna \"total_bedrooms\"\n",
    "#data.dropna(subset=[\"total_bedrooms\"])\n",
    "# Esta instrucción elimina la columna \"total_bedrooms\"\n",
    "#data.drop(\"total_bedrooms\", axis=1)"
   ]
  },
  {
   "cell_type": "code",
   "execution_count": 8,
   "metadata": {},
   "outputs": [
    {
     "name": "stdout",
     "output_type": "stream",
     "text": [
      "435.0\n"
     ]
    }
   ],
   "source": [
    "# Estimamos la mediana que servirá para reemplazar los renglones con na's:\n",
    "median = data[\"total_bedrooms\"].median()\n",
    "print(median)"
   ]
  },
  {
   "cell_type": "code",
   "execution_count": 9,
   "metadata": {},
   "outputs": [],
   "source": [
    "# Reemplazamos los renglones na's en la columna \"total_bedrooms\" con el valor de la mediana:\n",
    "data[\"total_bedrooms\"].fillna(median, inplace=True)"
   ]
  },
  {
   "cell_type": "code",
   "execution_count": 10,
   "metadata": {},
   "outputs": [
    {
     "data": {
      "text/plain": [
       "244"
      ]
     },
     "execution_count": 10,
     "metadata": {},
     "output_type": "execute_result"
    }
   ],
   "source": [
    "# Pedimos el total de renglones de la columna \"total_bedrooms\" con valor igual a la mediana:\n",
    "sum(data[\"total_bedrooms\"]==median)"
   ]
  },
  {
   "cell_type": "markdown",
   "metadata": {},
   "source": [
    "## Create imputer object"
   ]
  },
  {
   "cell_type": "code",
   "execution_count": 11,
   "metadata": {},
   "outputs": [],
   "source": [
    "# Para imputar se utiliza como estrategia a la mediana;\n",
    "# Se crea el objeto \"imputer\"\n",
    "imputer=SimpleImputer(strategy='median')"
   ]
  },
  {
   "cell_type": "code",
   "execution_count": 12,
   "metadata": {},
   "outputs": [],
   "source": [
    "# Creamos un dataframe sin la variable categórica \"ocean_proximity\", la instrucción \"axis=1\"se refiere a que opera sobre la columna\n",
    "# En R es equivalente a \"2\":\n",
    "housingNum=data.drop(\"ocean_proximity\",axis=1)"
   ]
  },
  {
   "cell_type": "code",
   "execution_count": 13,
   "metadata": {},
   "outputs": [
    {
     "data": {
      "text/plain": [
       "array([-1.1849e+02,  3.4260e+01,  2.9000e+01,  2.1270e+03,  4.3500e+02,\n",
       "        1.1660e+03,  4.0900e+02,  3.5348e+00,  1.7970e+05])"
      ]
     },
     "execution_count": 13,
     "metadata": {},
     "output_type": "execute_result"
    }
   ],
   "source": [
    "# Insertamos el imputer al dataframe \"housingNum\" con la instrucción \"fit\" y calculamos sus estadísticas;\n",
    "# Al objeto \"imputer\" le sigue la instrucción 'fit':\n",
    "imputer.fit(housingNum)\n",
    "imputer.statistics_\n",
    "# Devuelve la mediana de las columnas del objeto \"housingNum\":\n",
    "housingNum.median().values"
   ]
  },
  {
   "cell_type": "code",
   "execution_count": 14,
   "metadata": {},
   "outputs": [
    {
     "name": "stdout",
     "output_type": "stream",
     "text": [
      "[[-1.2223e+02  3.7880e+01  4.1000e+01 ...  1.2600e+02  8.3252e+00\n",
      "   4.5260e+05]\n",
      " [-1.2222e+02  3.7860e+01  2.1000e+01 ...  1.1380e+03  8.3014e+00\n",
      "   3.5850e+05]\n",
      " [-1.2224e+02  3.7850e+01  5.2000e+01 ...  1.7700e+02  7.2574e+00\n",
      "   3.5210e+05]\n",
      " ...\n",
      " [-1.2122e+02  3.9430e+01  1.7000e+01 ...  4.3300e+02  1.7000e+00\n",
      "   9.2300e+04]\n",
      " [-1.2132e+02  3.9430e+01  1.8000e+01 ...  3.4900e+02  1.8672e+00\n",
      "   8.4700e+04]\n",
      " [-1.2124e+02  3.9370e+01  1.6000e+01 ...  5.3000e+02  2.3886e+00\n",
      "   8.9400e+04]]\n"
     ]
    }
   ],
   "source": [
    "# Imputamos el dataframe (el cual devuelve un arreglo tipo numpy):\n",
    "impArray=imputer.transform(housingNum)\n",
    "print(impArray)"
   ]
  },
  {
   "cell_type": "code",
   "execution_count": 15,
   "metadata": {},
   "outputs": [
    {
     "name": "stdout",
     "output_type": "stream",
     "text": [
      "Index(['longitude', 'latitude', 'housing_median_age', 'total_rooms',\n",
      "       'total_bedrooms', 'population', 'households', 'median_income',\n",
      "       'median_house_value'],\n",
      "      dtype='object')\n"
     ]
    }
   ],
   "source": [
    "# Extraemos las encabezados del objeto \"housingNum\":\n",
    "colNames=housingNum.columns\n",
    "print(colNames)"
   ]
  },
  {
   "cell_type": "code",
   "execution_count": 16,
   "metadata": {},
   "outputs": [
    {
     "name": "stdout",
     "output_type": "stream",
     "text": [
      "       longitude  latitude  housing_median_age  total_rooms  total_bedrooms  \\\n",
      "0        -122.23     37.88                41.0        880.0           129.0   \n",
      "1        -122.22     37.86                21.0       7099.0          1106.0   \n",
      "2        -122.24     37.85                52.0       1467.0           190.0   \n",
      "3        -122.25     37.85                52.0       1274.0           235.0   \n",
      "4        -122.25     37.85                52.0       1627.0           280.0   \n",
      "5        -122.25     37.85                52.0        919.0           213.0   \n",
      "6        -122.25     37.84                52.0       2535.0           489.0   \n",
      "7        -122.25     37.84                52.0       3104.0           687.0   \n",
      "8        -122.26     37.84                42.0       2555.0           665.0   \n",
      "9        -122.25     37.84                52.0       3549.0           707.0   \n",
      "10       -122.26     37.85                52.0       2202.0           434.0   \n",
      "11       -122.26     37.85                52.0       3503.0           752.0   \n",
      "12       -122.26     37.85                52.0       2491.0           474.0   \n",
      "13       -122.26     37.84                52.0        696.0           191.0   \n",
      "14       -122.26     37.85                52.0       2643.0           626.0   \n",
      "15       -122.26     37.85                50.0       1120.0           283.0   \n",
      "16       -122.27     37.85                52.0       1966.0           347.0   \n",
      "17       -122.27     37.85                52.0       1228.0           293.0   \n",
      "18       -122.26     37.84                50.0       2239.0           455.0   \n",
      "19       -122.27     37.84                52.0       1503.0           298.0   \n",
      "20       -122.27     37.85                40.0        751.0           184.0   \n",
      "21       -122.27     37.85                42.0       1639.0           367.0   \n",
      "22       -122.27     37.84                52.0       2436.0           541.0   \n",
      "23       -122.27     37.84                52.0       1688.0           337.0   \n",
      "24       -122.27     37.84                52.0       2224.0           437.0   \n",
      "25       -122.28     37.85                41.0        535.0           123.0   \n",
      "26       -122.28     37.85                49.0       1130.0           244.0   \n",
      "27       -122.28     37.85                52.0       1898.0           421.0   \n",
      "28       -122.28     37.84                50.0       2082.0           492.0   \n",
      "29       -122.28     37.84                52.0        729.0           160.0   \n",
      "...          ...       ...                 ...          ...             ...   \n",
      "20610    -121.56     39.10                28.0       2130.0           484.0   \n",
      "20611    -121.55     39.10                27.0       1783.0           441.0   \n",
      "20612    -121.56     39.08                26.0       1377.0           289.0   \n",
      "20613    -121.55     39.09                31.0       1728.0           365.0   \n",
      "20614    -121.54     39.08                26.0       2276.0           460.0   \n",
      "20615    -121.54     39.08                23.0       1076.0           216.0   \n",
      "20616    -121.53     39.08                15.0       1810.0           441.0   \n",
      "20617    -121.53     39.06                20.0        561.0           109.0   \n",
      "20618    -121.55     39.06                25.0       1332.0           247.0   \n",
      "20619    -121.56     39.01                22.0       1891.0           340.0   \n",
      "20620    -121.48     39.05                40.0        198.0            41.0   \n",
      "20621    -121.47     39.01                37.0       1244.0           247.0   \n",
      "20622    -121.44     39.00                20.0        755.0           147.0   \n",
      "20623    -121.37     39.03                32.0       1158.0           244.0   \n",
      "20624    -121.41     39.04                16.0       1698.0           300.0   \n",
      "20625    -121.52     39.12                37.0        102.0            17.0   \n",
      "20626    -121.43     39.18                36.0       1124.0           184.0   \n",
      "20627    -121.32     39.13                 5.0        358.0            65.0   \n",
      "20628    -121.48     39.10                19.0       2043.0           421.0   \n",
      "20629    -121.39     39.12                28.0      10035.0          1856.0   \n",
      "20630    -121.32     39.29                11.0       2640.0           505.0   \n",
      "20631    -121.40     39.33                15.0       2655.0           493.0   \n",
      "20632    -121.45     39.26                15.0       2319.0           416.0   \n",
      "20633    -121.53     39.19                27.0       2080.0           412.0   \n",
      "20634    -121.56     39.27                28.0       2332.0           395.0   \n",
      "20635    -121.09     39.48                25.0       1665.0           374.0   \n",
      "20636    -121.21     39.49                18.0        697.0           150.0   \n",
      "20637    -121.22     39.43                17.0       2254.0           485.0   \n",
      "20638    -121.32     39.43                18.0       1860.0           409.0   \n",
      "20639    -121.24     39.37                16.0       2785.0           616.0   \n",
      "\n",
      "       population  households  median_income  median_house_value  \n",
      "0           322.0       126.0         8.3252            452600.0  \n",
      "1          2401.0      1138.0         8.3014            358500.0  \n",
      "2           496.0       177.0         7.2574            352100.0  \n",
      "3           558.0       219.0         5.6431            341300.0  \n",
      "4           565.0       259.0         3.8462            342200.0  \n",
      "5           413.0       193.0         4.0368            269700.0  \n",
      "6          1094.0       514.0         3.6591            299200.0  \n",
      "7          1157.0       647.0         3.1200            241400.0  \n",
      "8          1206.0       595.0         2.0804            226700.0  \n",
      "9          1551.0       714.0         3.6912            261100.0  \n",
      "10          910.0       402.0         3.2031            281500.0  \n",
      "11         1504.0       734.0         3.2705            241800.0  \n",
      "12         1098.0       468.0         3.0750            213500.0  \n",
      "13          345.0       174.0         2.6736            191300.0  \n",
      "14         1212.0       620.0         1.9167            159200.0  \n",
      "15          697.0       264.0         2.1250            140000.0  \n",
      "16          793.0       331.0         2.7750            152500.0  \n",
      "17          648.0       303.0         2.1202            155500.0  \n",
      "18          990.0       419.0         1.9911            158700.0  \n",
      "19          690.0       275.0         2.6033            162900.0  \n",
      "20          409.0       166.0         1.3578            147500.0  \n",
      "21          929.0       366.0         1.7135            159800.0  \n",
      "22         1015.0       478.0         1.7250            113900.0  \n",
      "23          853.0       325.0         2.1806             99700.0  \n",
      "24         1006.0       422.0         2.6000            132600.0  \n",
      "25          317.0       119.0         2.4038            107500.0  \n",
      "26          607.0       239.0         2.4597             93800.0  \n",
      "27         1102.0       397.0         1.8080            105500.0  \n",
      "28         1131.0       473.0         1.6424            108900.0  \n",
      "29          395.0       155.0         1.6875            132000.0  \n",
      "...           ...         ...            ...                 ...  \n",
      "20610      1195.0       439.0         1.3631             45500.0  \n",
      "20611      1163.0       409.0         1.2857             47000.0  \n",
      "20612       761.0       267.0         1.4934             48300.0  \n",
      "20613      1167.0       384.0         1.4958             53400.0  \n",
      "20614      1455.0       474.0         2.4695             58000.0  \n",
      "20615       724.0       197.0         2.3598             57500.0  \n",
      "20616      1157.0       375.0         2.0469             55100.0  \n",
      "20617       308.0       114.0         3.3021             70800.0  \n",
      "20618       726.0       226.0         2.2500             63400.0  \n",
      "20619      1023.0       296.0         2.7303             99100.0  \n",
      "20620       151.0        48.0         4.5625            100000.0  \n",
      "20621       484.0       157.0         2.3661             77500.0  \n",
      "20622       457.0       157.0         2.4167             67000.0  \n",
      "20623       598.0       227.0         2.8235             65500.0  \n",
      "20624       731.0       291.0         3.0739             87200.0  \n",
      "20625        29.0        14.0         4.1250             72000.0  \n",
      "20626       504.0       171.0         2.1667             93800.0  \n",
      "20627       169.0        59.0         3.0000            162500.0  \n",
      "20628      1018.0       390.0         2.5952             92400.0  \n",
      "20629      6912.0      1818.0         2.0943            108300.0  \n",
      "20630      1257.0       445.0         3.5673            112000.0  \n",
      "20631      1200.0       432.0         3.5179            107200.0  \n",
      "20632      1047.0       385.0         3.1250            115600.0  \n",
      "20633      1082.0       382.0         2.5495             98300.0  \n",
      "20634      1041.0       344.0         3.7125            116800.0  \n",
      "20635       845.0       330.0         1.5603             78100.0  \n",
      "20636       356.0       114.0         2.5568             77100.0  \n",
      "20637      1007.0       433.0         1.7000             92300.0  \n",
      "20638       741.0       349.0         1.8672             84700.0  \n",
      "20639      1387.0       530.0         2.3886             89400.0  \n",
      "\n",
      "[20640 rows x 9 columns]\n"
     ]
    }
   ],
   "source": [
    "# Convertimos el objeto \"impArray\" de vuelta a un dataframe; como se muestra arriba, la instrucción crea un objeto con los títulos de las columnas:\n",
    "colNames=housingNum.columns\n",
    "# Se convierte a dataframe\n",
    "housingTr=pd.DataFrame(impArray,columns=colNames)\n",
    "print(housingTr)"
   ]
  },
  {
   "cell_type": "markdown",
   "metadata": {},
   "source": [
    "## The categorical variable"
   ]
  },
  {
   "cell_type": "code",
   "execution_count": 17,
   "metadata": {},
   "outputs": [
    {
     "name": "stdout",
     "output_type": "stream",
     "text": [
      "0    NEAR BAY\n",
      "1    NEAR BAY\n",
      "2    NEAR BAY\n",
      "3    NEAR BAY\n",
      "4    NEAR BAY\n",
      "5    NEAR BAY\n",
      "6    NEAR BAY\n",
      "7    NEAR BAY\n",
      "8    NEAR BAY\n",
      "9    NEAR BAY\n",
      "Name: ocean_proximity, dtype: object\n"
     ]
    }
   ],
   "source": [
    "# Creamos un objeto con la variable categórica, en donde ésta se refiere a la ubicación física de la casa:\n",
    "housingCat=data[\"ocean_proximity\"]\n",
    "# Pedimos las primeras 10 filas:\n",
    "print(housingCat.head(10))"
   ]
  },
  {
   "cell_type": "code",
   "execution_count": 18,
   "metadata": {},
   "outputs": [
    {
     "name": "stdout",
     "output_type": "stream",
     "text": [
      "Index(['NEAR BAY', '<1H OCEAN', 'INLAND', 'NEAR OCEAN', 'ISLAND'], dtype='object')\n"
     ]
    }
   ],
   "source": [
    "# Verificamos los elementos categóricos de la variable categórica:\n",
    "(housingCatEncoded,housingCatCategories)=housingCat.factorize()\n",
    "print(housingCatCategories)"
   ]
  },
  {
   "cell_type": "code",
   "execution_count": 19,
   "metadata": {},
   "outputs": [
    {
     "data": {
      "text/plain": [
       "['<1H OCEAN', 'INLAND', 'ISLAND', 'NEAR BAY', 'NEAR OCEAN']"
      ]
     },
     "execution_count": 19,
     "metadata": {},
     "output_type": "execute_result"
    }
   ],
   "source": [
    "# Creamos objeto \"encoder\" que más adelante permitirá juntar todas las variables (categóricasy la no categórica):\n",
    "encoder = OneHotEncoder(categories=\"auto\", sparse=False)\n",
    "housingCatT = housingCat.values.reshape(-1, 1)\n",
    "housingCatOne = encoder.fit_transform(housingCatT)\n",
    "housingCatOne\n",
    "encoder.categories_\n",
    "# Pedimos lista de los elementos categóricos en orden ascendente, por ello [0]:\n",
    "list(encoder.categories_[0])"
   ]
  },
  {
   "cell_type": "code",
   "execution_count": 20,
   "metadata": {},
   "outputs": [],
   "source": [
    "# Ponemos todo junto en un dataframe, recordemos que \"housingTr\" es un dataframe que no incluye la variable categórica:\n",
    "cleanDataset=housingTr\n",
    "# Convertimos a dataframe considerando los encabezados de las columnas:\n",
    "encodedDataframe=pd.DataFrame(housingCatOne,columns=list(encoder.categories_[0]))\n",
    "# Juntamos:\n",
    "cleanDataset=cleanDataset.join(encodedDataframe)"
   ]
  },
  {
   "cell_type": "markdown",
   "metadata": {},
   "source": [
    "## Convertimos (exportamos) el nuevo dataframe a un archivo tipo csv:"
   ]
  },
  {
   "cell_type": "code",
   "execution_count": 23,
   "metadata": {},
   "outputs": [],
   "source": [
    "# Se debe especificar la dirección a donde se exporte el nuevo archivo (limpio);\n",
    "# Lo último que dice \"cleanhousing\" es el nuevo nombre del archivo ya limpio:\n",
    "cleanDataset.to_csv(\"C:\\\\Users\\\\L00871590\\\\Desktop\\\\GitHub\\\\dataPy\\\\data\\\\extracted\\\\housing\\\\cleanhousing.csv\")"
   ]
  },
  {
   "cell_type": "code",
   "execution_count": null,
   "metadata": {},
   "outputs": [],
   "source": []
  }
 ],
 "metadata": {
  "kernelspec": {
   "display_name": "Python [conda env:cadiThree] *",
   "language": "python",
   "name": "conda-env-cadiThree-py"
  },
  "language_info": {
   "codemirror_mode": {
    "name": "ipython",
    "version": 3
   },
   "file_extension": ".py",
   "mimetype": "text/x-python",
   "name": "python",
   "nbconvert_exporter": "python",
   "pygments_lexer": "ipython3",
   "version": "3.7.3"
  }
 },
 "nbformat": 4,
 "nbformat_minor": 2
}
