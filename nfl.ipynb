{
 "cells": [
  {
   "cell_type": "markdown",
   "metadata": {},
   "source": [
    "# CADi: Data Wrangling in Python\n",
    "# Example: NFL\n",
    "Objective:\n",
    "To learn the basics of data imporing, filtering and ploting in pandas, matplotlib and seaborn."
   ]
  },
  {
   "cell_type": "markdown",
   "metadata": {},
   "source": [
    "## Import the required libraries"
   ]
  },
  {
   "cell_type": "code",
   "execution_count": 3,
   "metadata": {},
   "outputs": [],
   "source": [
    "import seaborn as sns\n",
    "from matplotlib import cm\n",
    "import numpy as np\n",
    "import pandas as pd\n",
    "import matplotlib.colors as colors\n",
    "import matplotlib.pyplot as plt\n",
    "%matplotlib inline"
   ]
  },
  {
   "cell_type": "markdown",
   "metadata": {},
   "source": [
    "## Load the dataset"
   ]
  },
  {
   "cell_type": "code",
   "execution_count": 4,
   "metadata": {},
   "outputs": [
    {
     "data": {
      "text/plain": [
       "'C:\\\\Users\\\\L00871590\\\\Desktop\\\\GitHub\\\\dataPy\\\\scripts'"
      ]
     },
     "execution_count": 4,
     "metadata": {},
     "output_type": "execute_result"
    }
   ],
   "source": [
    "## Para verificar la ruta:\n",
    "import os\n",
    "os.getcwd()"
   ]
  },
  {
   "cell_type": "code",
   "execution_count": 7,
   "metadata": {},
   "outputs": [
    {
     "data": {
      "text/plain": [
       "['Age',\n",
       " 'Birth Place',\n",
       " 'Birthday',\n",
       " 'College',\n",
       " 'Current Status',\n",
       " 'Current Team',\n",
       " 'Experience',\n",
       " 'Height (inches)',\n",
       " 'High School',\n",
       " 'High School Location',\n",
       " 'Name',\n",
       " 'Number',\n",
       " 'Player Id',\n",
       " 'Position',\n",
       " 'Weight (lbs)',\n",
       " 'Years Played']"
      ]
     },
     "execution_count": 7,
     "metadata": {},
     "output_type": "execute_result"
    }
   ],
   "source": [
    "data = pd.read_csv(\"C:\\\\Users\\\\L00871590\\\\Desktop\\\\GitHub\\\\dataPy\\\\data\\\\extracted\\\\NFL\\\\NFL.csv\")\n",
    "data.head()\n",
    "list(data.columns)"
   ]
  },
  {
   "cell_type": "markdown",
   "metadata": {},
   "source": [
    "## Filtering and selecting: first step"
   ]
  },
  {
   "cell_type": "code",
   "execution_count": 12,
   "metadata": {},
   "outputs": [
    {
     "data": {
      "text/html": [
       "<div>\n",
       "<style scoped>\n",
       "    .dataframe tbody tr th:only-of-type {\n",
       "        vertical-align: middle;\n",
       "    }\n",
       "\n",
       "    .dataframe tbody tr th {\n",
       "        vertical-align: top;\n",
       "    }\n",
       "\n",
       "    .dataframe thead th {\n",
       "        text-align: right;\n",
       "    }\n",
       "</style>\n",
       "<table border=\"1\" class=\"dataframe\">\n",
       "  <thead>\n",
       "    <tr style=\"text-align: right;\">\n",
       "      <th></th>\n",
       "      <th>Age</th>\n",
       "      <th>Birth Place</th>\n",
       "      <th>Birthday</th>\n",
       "      <th>College</th>\n",
       "      <th>Current Status</th>\n",
       "      <th>Current Team</th>\n",
       "      <th>Experience</th>\n",
       "      <th>Height (inches)</th>\n",
       "      <th>High School</th>\n",
       "      <th>High School Location</th>\n",
       "      <th>Name</th>\n",
       "      <th>Number</th>\n",
       "      <th>Player Id</th>\n",
       "      <th>Position</th>\n",
       "      <th>Weight (lbs)</th>\n",
       "      <th>Years Played</th>\n",
       "    </tr>\n",
       "  </thead>\n",
       "  <tbody>\n",
       "    <tr>\n",
       "      <th>2</th>\n",
       "      <td>56.0</td>\n",
       "      <td>Temple , TX</td>\n",
       "      <td>9/11/1960</td>\n",
       "      <td>Louisiana Tech</td>\n",
       "      <td>Retired</td>\n",
       "      <td>NaN</td>\n",
       "      <td>1 Season</td>\n",
       "      <td>74.0</td>\n",
       "      <td>NaN</td>\n",
       "      <td>NaN</td>\n",
       "      <td>Fowler, Bobby</td>\n",
       "      <td>NaN</td>\n",
       "      <td>bobbyfowler/2514295</td>\n",
       "      <td>NaN</td>\n",
       "      <td>230.0</td>\n",
       "      <td>1985 - 1985</td>\n",
       "    </tr>\n",
       "    <tr>\n",
       "      <th>9</th>\n",
       "      <td>98.0</td>\n",
       "      <td>Alverton , PA</td>\n",
       "      <td>2/23/1919</td>\n",
       "      <td>Duquesne</td>\n",
       "      <td>Retired</td>\n",
       "      <td>NaN</td>\n",
       "      <td>1 Season</td>\n",
       "      <td>70.0</td>\n",
       "      <td>NaN</td>\n",
       "      <td>NaN</td>\n",
       "      <td>Gonda, George</td>\n",
       "      <td>NaN</td>\n",
       "      <td>georgegonda/2515030</td>\n",
       "      <td>NaN</td>\n",
       "      <td>175.0</td>\n",
       "      <td>1942 - 1942</td>\n",
       "    </tr>\n",
       "    <tr>\n",
       "      <th>11</th>\n",
       "      <td>56.0</td>\n",
       "      <td>Alton , IL</td>\n",
       "      <td>2/10/1961</td>\n",
       "      <td>Southern University</td>\n",
       "      <td>Retired</td>\n",
       "      <td>NaN</td>\n",
       "      <td>1 Season</td>\n",
       "      <td>69.0</td>\n",
       "      <td>NaN</td>\n",
       "      <td>NaN</td>\n",
       "      <td>Raglin, Floyd</td>\n",
       "      <td>NaN</td>\n",
       "      <td>floydraglin/2523695</td>\n",
       "      <td>NaN</td>\n",
       "      <td>180.0</td>\n",
       "      <td>1987 - 1987</td>\n",
       "    </tr>\n",
       "    <tr>\n",
       "      <th>12</th>\n",
       "      <td>33.0</td>\n",
       "      <td>NaN</td>\n",
       "      <td>12/4/1983</td>\n",
       "      <td>Boise State</td>\n",
       "      <td>Retired</td>\n",
       "      <td>NaN</td>\n",
       "      <td>1 Season</td>\n",
       "      <td>74.0</td>\n",
       "      <td>NaN</td>\n",
       "      <td>NaN</td>\n",
       "      <td>Zabransky, Jared</td>\n",
       "      <td>NaN</td>\n",
       "      <td>jaredzabransky/2495791</td>\n",
       "      <td>NaN</td>\n",
       "      <td>219.0</td>\n",
       "      <td>2007 - 2007</td>\n",
       "    </tr>\n",
       "    <tr>\n",
       "      <th>14</th>\n",
       "      <td>73.0</td>\n",
       "      <td>St. Louis , MO</td>\n",
       "      <td>12/8/1943</td>\n",
       "      <td>Missouri</td>\n",
       "      <td>Retired</td>\n",
       "      <td>NaN</td>\n",
       "      <td>8 Seasons</td>\n",
       "      <td>73.0</td>\n",
       "      <td>NaN</td>\n",
       "      <td>NaN</td>\n",
       "      <td>Otto, Gus</td>\n",
       "      <td>NaN</td>\n",
       "      <td>gusotto/2522592</td>\n",
       "      <td>NaN</td>\n",
       "      <td>220.0</td>\n",
       "      <td>1965 - 1972</td>\n",
       "    </tr>\n",
       "  </tbody>\n",
       "</table>\n",
       "</div>"
      ],
      "text/plain": [
       "     Age     Birth Place   Birthday              College Current Status  \\\n",
       "2   56.0     Temple , TX  9/11/1960       Louisiana Tech        Retired   \n",
       "9   98.0   Alverton , PA  2/23/1919             Duquesne        Retired   \n",
       "11  56.0      Alton , IL  2/10/1961  Southern University        Retired   \n",
       "12  33.0             NaN  12/4/1983          Boise State        Retired   \n",
       "14  73.0  St. Louis , MO  12/8/1943             Missouri        Retired   \n",
       "\n",
       "   Current Team Experience  Height (inches) High School High School Location  \\\n",
       "2           NaN   1 Season             74.0         NaN                  NaN   \n",
       "9           NaN   1 Season             70.0         NaN                  NaN   \n",
       "11          NaN   1 Season             69.0         NaN                  NaN   \n",
       "12          NaN   1 Season             74.0         NaN                  NaN   \n",
       "14          NaN  8 Seasons             73.0         NaN                  NaN   \n",
       "\n",
       "                Name  Number               Player Id Position  Weight (lbs)  \\\n",
       "2      Fowler, Bobby     NaN     bobbyfowler/2514295      NaN         230.0   \n",
       "9      Gonda, George     NaN     georgegonda/2515030      NaN         175.0   \n",
       "11     Raglin, Floyd     NaN     floydraglin/2523695      NaN         180.0   \n",
       "12  Zabransky, Jared     NaN  jaredzabransky/2495791      NaN         219.0   \n",
       "14         Otto, Gus     NaN         gusotto/2522592      NaN         220.0   \n",
       "\n",
       "   Years Played  \n",
       "2   1985 - 1985  \n",
       "9   1942 - 1942  \n",
       "11  1987 - 1987  \n",
       "12  2007 - 2007  \n",
       "14  1965 - 1972  "
      ]
     },
     "execution_count": 12,
     "metadata": {},
     "output_type": "execute_result"
    }
   ],
   "source": [
    "## Creamos una variable con jugadores mayores que 30 años de la columna \"Age\".\n",
    "ageFiltervalue=30\n",
    "ageFilter=data[\"Age\"]>ageFiltervalue\n",
    "aboveAge=data[ageFilter]\n",
    "## Nos devuelve la longitud de la variable\n",
    "len(aboveAge)\n",
    "## Nos muestra las primeras filas de la variable \"aboveAge\"\n",
    "aboveAge.head()"
   ]
  },
  {
   "cell_type": "markdown",
   "metadata": {},
   "source": [
    "## Filtering and selecting: second step"
   ]
  },
  {
   "cell_type": "code",
   "execution_count": 9,
   "metadata": {},
   "outputs": [
    {
     "data": {
      "text/plain": [
       "array(['Retired', 'Active', 'Unsigned free agent', 'Suspended',\n",
       "       'Injured reserve', 'Physically unable to perform'], dtype=object)"
      ]
     },
     "execution_count": 9,
     "metadata": {},
     "output_type": "execute_result"
    }
   ],
   "source": [
    "## Con esta instrucción mandamos llamar el contenido de la columna \"Current Status\", y al teclear [].unique() nos indica los elementos categóricos de la columna.\n",
    "## Si quitas la instrucción \".unique()\", verás lo que pasa.\n",
    "data[\"Current Status\"].unique()"
   ]
  },
  {
   "cell_type": "code",
   "execution_count": 10,
   "metadata": {},
   "outputs": [
    {
     "data": {
      "text/plain": [
       "183"
      ]
     },
     "execution_count": 10,
     "metadata": {},
     "output_type": "execute_result"
    }
   ],
   "source": [
    "## Estamos creando una variable de aquellos jugadores que se mantienen activos, que se obtiene de la columna \"Current Status\"\n",
    "activeFilter=data[\"Current Status\"]==\"Active\"\n",
    "## Creamos otra variable con los jugadores activos y mayores que 30 años\n",
    "aboveAndActive=data[ageFilter & activeFilter]\n",
    "## Pedimos la longitud del objeto:\n",
    "len(aboveAndActive)"
   ]
  },
  {
   "cell_type": "markdown",
   "metadata": {},
   "source": [
    "## Plotting"
   ]
  },
  {
   "cell_type": "code",
   "execution_count": 15,
   "metadata": {},
   "outputs": [
    {
     "data": {
      "text/plain": [
       "<matplotlib.axes._subplots.AxesSubplot at 0x24a2281b7b8>"
      ]
     },
     "execution_count": 15,
     "metadata": {},
     "output_type": "execute_result"
    },
    {
     "data": {
      "image/png": "[encoded data removed]",
      "text/plain": [
       "<Figure size 432x288 with 1 Axes>"
      ]
     },
     "metadata": {
      "needs_background": "light"
     },
     "output_type": "display_data"
    }
   ],
   "source": [
    "## Definimos el objeto que contiene la información de \"aboveAndActive\" bajo el atributo \"Position\"\n",
    "## y que cuente las observaciones con la instrucción \".value_counts()\":\n",
    "frequencies = aboveAndActive[\"Position\"].value_counts()\n",
    "## Asignamos la instrucción de \"plot\" al objeto \"frequencies\" y establecemos sus características de graficado:\n",
    "frequencies.plot(\n",
    "    kind=\"bar\",\n",
    "    title=(\n",
    "        \"Active NFL players above \" +\n",
    "        str(ageFiltervalue) +\n",
    "        \" and grouped by position\"\n",
    "    ),\n",
    ")"
   ]
  },
  {
   "cell_type": "markdown",
   "metadata": {},
   "source": [
    "## Plotting with style"
   ]
  },
  {
   "cell_type": "code",
   "execution_count": 18,
   "metadata": {},
   "outputs": [
    {
     "data": {
      "text/plain": [
       "<matplotlib.axes._subplots.AxesSubplot at 0x24a229c39b0>"
      ]
     },
     "execution_count": 18,
     "metadata": {},
     "output_type": "execute_result"
    },
    {
     "data": {
      "image/png": "[encoded data removed]",
      "text/plain": [
       "<Figure size 432x288 with 1 Axes>"
      ]
     },
     "metadata": {
      "needs_background": "light"
     },
     "output_type": "display_data"
    }
   ],
   "source": [
    "## Asignamos tipo de color:\n",
    "color=cm.inferno_r(np.linspace(.4,.8,30))\n",
    "## Asignamos la instrucción de graficado al objeto \"frequencies\":\n",
    "frequencies.plot(\n",
    "    kind=\"bar\",\n",
    "    title=(\n",
    "        \"Active NFL players above \" +\n",
    "        str(ageFiltervalue) +\n",
    "        \"and grouped by position\"\n",
    "    ),\n",
    "    color=color\n",
    ")"
   ]
  },
  {
   "cell_type": "markdown",
   "metadata": {},
   "source": [
    "## Scatterplot"
   ]
  },
  {
   "cell_type": "code",
   "execution_count": 20,
   "metadata": {},
   "outputs": [
    {
     "data": {
      "text/plain": [
       "<seaborn.axisgrid.FacetGrid at 0x24a22f812b0>"
      ]
     },
     "execution_count": 20,
     "metadata": {},
     "output_type": "execute_result"
    },
    {
     "data": {
      "image/png": "[encoded data removed]",
      "text/plain": [
       "<Figure size 597x360 with 1 Axes>"
      ]
     },
     "metadata": {
      "needs_background": "light"
     },
     "output_type": "display_data"
    }
   ],
   "source": [
    "## Esta instrucción es similar a ggplot en R; en Python utilizamos \"lmplot\" de la librería \"seaborn\";\n",
    "## Recordemos que los datos están contenidos en el objeto \"aboveAndActive\";\n",
    "## En el atributo del gráfico \"len()\" al escribir [].unique se especifica la longitud por elemento categórico de la variable \"Position\" del objeto \"aboveAndActive\":\n",
    "sns.lmplot(\n",
    "    x=\"Height (inches)\", y=\"Weight (lbs)\", data=aboveAndActive,\n",
    "    aspect=1.5, fit_reg=False, hue='Position', legend=True,\n",
    "    palette=sns.color_palette(\"hls\", len(aboveAndActive[\"Position\"].unique()))\n",
    ")"
   ]
  },
  {
   "cell_type": "code",
   "execution_count": null,
   "metadata": {},
   "outputs": [],
   "source": []
  }
 ],
 "metadata": {
  "kernelspec": {
   "display_name": "Python [conda env:cadiThree] *",
   "language": "python",
   "name": "conda-env-cadiThree-py"
  },
  "language_info": {
   "codemirror_mode": {
    "name": "ipython",
    "version": 3
   },
   "file_extension": ".py",
   "mimetype": "text/x-python",
   "name": "python",
   "nbconvert_exporter": "python",
   "pygments_lexer": "ipython3",
   "version": "3.7.3"
  }
 },
 "nbformat": 4,
 "nbformat_minor": 2
}
